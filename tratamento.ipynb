{
 "cells": [
  {
   "cell_type": "markdown",
   "metadata": {},
   "source": [
    "Pacotes\n"
   ]
  },
  {
   "cell_type": "code",
   "execution_count": 1,
   "metadata": {},
   "outputs": [],
   "source": [
    "import scripts_saneamento as ss # importa fórmulas de tratamento da base\n",
    "import pandas as pd             # pacote para manipulação de dados em tabela"
   ]
  },
  {
   "cell_type": "markdown",
   "metadata": {},
   "source": [
    "Importação dos dados"
   ]
  },
  {
   "cell_type": "code",
   "execution_count": 2,
   "metadata": {},
   "outputs": [],
   "source": [
    "base = pd.read_hdf('base_equip_copia_teste.h5') #importa base"
   ]
  },
  {
   "cell_type": "code",
   "execution_count": 15,
   "metadata": {},
   "outputs": [
    {
     "data": {
      "text/plain": [
       "(65271, 141)"
      ]
     },
     "execution_count": 15,
     "metadata": {},
     "output_type": "execute_result"
    }
   ],
   "source": [
    "base.shape  # proporção da base (linha, coluna)"
   ]
  },
  {
   "cell_type": "code",
   "execution_count": 25,
   "metadata": {},
   "outputs": [],
   "source": [
    "base_100 = base.iloc[:100] # amostra com 100 linhas para acelerar testes"
   ]
  },
  {
   "cell_type": "code",
   "execution_count": 28,
   "metadata": {},
   "outputs": [
    {
     "data": {
      "text/html": [
       "<div>\n",
       "<style scoped>\n",
       "    .dataframe tbody tr th:only-of-type {\n",
       "        vertical-align: middle;\n",
       "    }\n",
       "\n",
       "    .dataframe tbody tr th {\n",
       "        vertical-align: top;\n",
       "    }\n",
       "\n",
       "    .dataframe thead th {\n",
       "        text-align: right;\n",
       "    }\n",
       "</style>\n",
       "<table border=\"1\" class=\"dataframe\">\n",
       "  <thead>\n",
       "    <tr style=\"text-align: right;\">\n",
       "      <th></th>\n",
       "      <th>Nome</th>\n",
       "    </tr>\n",
       "  </thead>\n",
       "  <tbody>\n",
       "    <tr>\n",
       "      <th>0</th>\n",
       "      <td>N.º Item - AT</td>\n",
       "    </tr>\n",
       "    <tr>\n",
       "      <th>1</th>\n",
       "      <td>Agreg. - AT</td>\n",
       "    </tr>\n",
       "    <tr>\n",
       "      <th>2</th>\n",
       "      <td>1 - UNIDADE REGIONAL</td>\n",
       "    </tr>\n",
       "    <tr>\n",
       "      <th>3</th>\n",
       "      <td>2 - MUNICÍPIO</td>\n",
       "    </tr>\n",
       "    <tr>\n",
       "      <th>4</th>\n",
       "      <td>3 - MUNICÍPIO IBGE</td>\n",
       "    </tr>\n",
       "    <tr>\n",
       "      <th>5</th>\n",
       "      <td>4 - PREFIXO DO MUNICÍPIO</td>\n",
       "    </tr>\n",
       "    <tr>\n",
       "      <th>6</th>\n",
       "      <td>5 - LOCALIDADE</td>\n",
       "    </tr>\n",
       "    <tr>\n",
       "      <th>7</th>\n",
       "      <td>6 - PREFIXO DA LOCALIDADE</td>\n",
       "    </tr>\n",
       "    <tr>\n",
       "      <th>8</th>\n",
       "      <td>7 - IMOBILIZADO / INTANGÍVEL</td>\n",
       "    </tr>\n",
       "    <tr>\n",
       "      <th>9</th>\n",
       "      <td>10 - ETAPA DO PROCESSO</td>\n",
       "    </tr>\n",
       "  </tbody>\n",
       "</table>\n",
       "</div>"
      ],
      "text/plain": [
       "                           Nome\n",
       "0                 N.º Item - AT\n",
       "1                   Agreg. - AT\n",
       "2          1 - UNIDADE REGIONAL\n",
       "3                 2 - MUNICÍPIO\n",
       "4            3 - MUNICÍPIO IBGE\n",
       "5      4 - PREFIXO DO MUNICÍPIO\n",
       "6                5 - LOCALIDADE\n",
       "7     6 - PREFIXO DA LOCALIDADE\n",
       "8  7 - IMOBILIZADO / INTANGÍVEL\n",
       "9        10 - ETAPA DO PROCESSO"
      ]
     },
     "execution_count": 28,
     "metadata": {},
     "output_type": "execute_result"
    }
   ],
   "source": [
    "ss.lista_colunas(base_100).head(10) #lista as colunas presentes na base"
   ]
  },
  {
   "cell_type": "code",
   "execution_count": 29,
   "metadata": {},
   "outputs": [],
   "source": [
    "lista_descricao = base_100.filter(['12 - DESCRIÇÃO DO BEM']) #armazena a coluna de descrição em nova variável"
   ]
  },
  {
   "cell_type": "code",
   "execution_count": 32,
   "metadata": {},
   "outputs": [
    {
     "data": {
      "text/html": [
       "<div>\n",
       "<style scoped>\n",
       "    .dataframe tbody tr th:only-of-type {\n",
       "        vertical-align: middle;\n",
       "    }\n",
       "\n",
       "    .dataframe tbody tr th {\n",
       "        vertical-align: top;\n",
       "    }\n",
       "\n",
       "    .dataframe thead th {\n",
       "        text-align: right;\n",
       "    }\n",
       "</style>\n",
       "<table border=\"1\" class=\"dataframe\">\n",
       "  <thead>\n",
       "    <tr style=\"text-align: right;\">\n",
       "      <th></th>\n",
       "      <th>12 - DESCRIÇÃO DO BEM</th>\n",
       "    </tr>\n",
       "  </thead>\n",
       "  <tbody>\n",
       "    <tr>\n",
       "      <th>12747</th>\n",
       "      <td>BOMBA DOSADORA MARCA PROMINENT MOD DIAFRAGMA N...</td>\n",
       "    </tr>\n",
       "    <tr>\n",
       "      <th>12752</th>\n",
       "      <td>BOMBA SUBMERSIVEL FLYGT 3127.180 CURVA 483 7,5...</td>\n",
       "    </tr>\n",
       "    <tr>\n",
       "      <th>12753</th>\n",
       "      <td>BOMBA SUBMERSIVEL FLYGT 3127.180 HT 483 NS.982...</td>\n",
       "    </tr>\n",
       "    <tr>\n",
       "      <th>12754</th>\n",
       "      <td>BOMBA SUBMERSIVEL FLYGT 3127.180 MT 432 NS.972...</td>\n",
       "    </tr>\n",
       "    <tr>\n",
       "      <th>12755</th>\n",
       "      <td>BOMBA SUBMERSIVEL FLYGT 3127.180 SERIE 0070145...</td>\n",
       "    </tr>\n",
       "    <tr>\n",
       "      <th>12756</th>\n",
       "      <td>Campo vazio</td>\n",
       "    </tr>\n",
       "    <tr>\n",
       "      <th>12757</th>\n",
       "      <td>TRANSFORMADOR 150 KVA - ALMIRANTE TAMANDARE</td>\n",
       "    </tr>\n",
       "    <tr>\n",
       "      <th>12758</th>\n",
       "      <td>BOMBA SUBMERSIVEL FLYGT 3127.180HT483 NS.97303...</td>\n",
       "    </tr>\n",
       "    <tr>\n",
       "      <th>12759</th>\n",
       "      <td>NOBREAK MARCA NHS - COR PRETA MOD PREMIUM PDV ...</td>\n",
       "    </tr>\n",
       "    <tr>\n",
       "      <th>12760</th>\n",
       "      <td>MOTOR</td>\n",
       "    </tr>\n",
       "  </tbody>\n",
       "</table>\n",
       "</div>"
      ],
      "text/plain": [
       "                                   12 - DESCRIÇÃO DO BEM\n",
       "12747  BOMBA DOSADORA MARCA PROMINENT MOD DIAFRAGMA N...\n",
       "12752  BOMBA SUBMERSIVEL FLYGT 3127.180 CURVA 483 7,5...\n",
       "12753  BOMBA SUBMERSIVEL FLYGT 3127.180 HT 483 NS.982...\n",
       "12754  BOMBA SUBMERSIVEL FLYGT 3127.180 MT 432 NS.972...\n",
       "12755  BOMBA SUBMERSIVEL FLYGT 3127.180 SERIE 0070145...\n",
       "12756                                        Campo vazio\n",
       "12757        TRANSFORMADOR 150 KVA - ALMIRANTE TAMANDARE\n",
       "12758  BOMBA SUBMERSIVEL FLYGT 3127.180HT483 NS.97303...\n",
       "12759  NOBREAK MARCA NHS - COR PRETA MOD PREMIUM PDV ...\n",
       "12760                                              MOTOR"
      ]
     },
     "execution_count": 32,
     "metadata": {},
     "output_type": "execute_result"
    }
   ],
   "source": [
    "lista_descricao.head(10)"
   ]
  },
  {
   "cell_type": "code",
   "execution_count": 66,
   "metadata": {},
   "outputs": [],
   "source": [
    "indices = lista_descricao.index[lista_descricao['12 - DESCRIÇÃO DO BEM'] == 'Campo vazio']#captura somente o indice e junta numa lista\n",
    "#indices.append(lista_descricao.index[lista_descricao['12 - DESCRIÇÃO DO BEM'] == 'Campo vazio']) #captura somente o indice e junta numa lista"
   ]
  },
  {
   "cell_type": "code",
   "execution_count": 69,
   "metadata": {},
   "outputs": [
    {
     "data": {
      "text/plain": [
       "29"
      ]
     },
     "execution_count": 69,
     "metadata": {},
     "output_type": "execute_result"
    }
   ],
   "source": [
    "indices.size"
   ]
  },
  {
   "cell_type": "code",
   "execution_count": 55,
   "metadata": {},
   "outputs": [
    {
     "data": {
      "text/plain": [
       "'MOTOR'"
      ]
     },
     "execution_count": 55,
     "metadata": {},
     "output_type": "execute_result"
    }
   ],
   "source": [
    "lista_descricao['12 - DESCRIÇÃO DO BEM'][12803]"
   ]
  },
  {
   "cell_type": "markdown",
   "metadata": {},
   "source": [
    "Laço que cria nova base com índice descrição e tokens que posteriormente serão utilizados no matching"
   ]
  },
  {
   "cell_type": "code",
   "execution_count": 94,
   "metadata": {},
   "outputs": [],
   "source": [
    "lista_geral = pd.DataFrame(columns=['Index','Descrição','Tokens']) # cria um DF com as 3 colunas index, descrição e tokens\n",
    "lista_base = lista_descricao['12 - DESCRIÇÃO DO BEM'].to_list()    # transforma o DF de descrição em uma lista \n",
    "for i in lista_base:                                               # itera a lista de descrição linha por linha\n",
    "    #indice\n",
    "    indexes = lista_descricao.index[lista_descricao['12 - DESCRIÇÃO DO BEM'] == i] #captura indice\n",
    "    indexes = indexes.tolist()  #transforma a lista de indices de objeto np para listsa\n",
    "    \n",
    "    for index in indexes:       # laço que impede duplicação de indices na base para descrições iguais\n",
    "        descricao = lista_descricao['12 - DESCRIÇÃO DO BEM'][index]     # captura a descrição pelo index\n",
    "        tokens = str(descricao).split(' ')                              # Força string e subdivide\n",
    "        novo_item = {'Index': index,'Descrição': descricao,'Tokens': tokens} # cria nova linha\n",
    "        lista_geral = lista_geral.append(novo_item, ignore_index=True)  # adciona a nova base\n",
    "\n",
    "lista_exclusao = ['DE', 'DA', 'DO', 'EM', 'PARA', 'NOS', 'NAS', 'E', ' ']\n",
    "lista_geral['Tokens'] = lista_geral['Tokens'].replace(lista_exclusao, '') "
   ]
  },
  {
   "cell_type": "code",
   "execution_count": 105,
   "metadata": {},
   "outputs": [
    {
     "data": {
      "text/html": [
       "<div>\n",
       "<style scoped>\n",
       "    .dataframe tbody tr th:only-of-type {\n",
       "        vertical-align: middle;\n",
       "    }\n",
       "\n",
       "    .dataframe tbody tr th {\n",
       "        vertical-align: top;\n",
       "    }\n",
       "\n",
       "    .dataframe thead th {\n",
       "        text-align: right;\n",
       "    }\n",
       "</style>\n",
       "<table border=\"1\" class=\"dataframe\">\n",
       "  <thead>\n",
       "    <tr style=\"text-align: right;\">\n",
       "      <th></th>\n",
       "      <th>Index</th>\n",
       "      <th>Descrição</th>\n",
       "      <th>Tokens</th>\n",
       "    </tr>\n",
       "  </thead>\n",
       "  <tbody>\n",
       "    <tr>\n",
       "      <th>0</th>\n",
       "      <td>12747</td>\n",
       "      <td>BOMBA DOSADORA MARCA PROMINENT MOD DIAFRAGMA N...</td>\n",
       "      <td>[BOMBA, DOSADORA, MARCA, PROMINENT, MOD, DIAFR...</td>\n",
       "    </tr>\n",
       "    <tr>\n",
       "      <th>1</th>\n",
       "      <td>12752</td>\n",
       "      <td>BOMBA SUBMERSIVEL FLYGT 3127.180 CURVA 483 7,5...</td>\n",
       "      <td>[BOMBA, SUBMERSIVEL, FLYGT, 3127.180, CURVA, 4...</td>\n",
       "    </tr>\n",
       "    <tr>\n",
       "      <th>2</th>\n",
       "      <td>12753</td>\n",
       "      <td>BOMBA SUBMERSIVEL FLYGT 3127.180 HT 483 NS.982...</td>\n",
       "      <td>[BOMBA, SUBMERSIVEL, FLYGT, 3127.180, HT, 483,...</td>\n",
       "    </tr>\n",
       "    <tr>\n",
       "      <th>3</th>\n",
       "      <td>12754</td>\n",
       "      <td>BOMBA SUBMERSIVEL FLYGT 3127.180 MT 432 NS.972...</td>\n",
       "      <td>[BOMBA, SUBMERSIVEL, FLYGT, 3127.180, MT, 432,...</td>\n",
       "    </tr>\n",
       "    <tr>\n",
       "      <th>4</th>\n",
       "      <td>12755</td>\n",
       "      <td>BOMBA SUBMERSIVEL FLYGT 3127.180 SERIE 0070145...</td>\n",
       "      <td>[BOMBA, SUBMERSIVEL, FLYGT, 3127.180, SERIE, 0...</td>\n",
       "    </tr>\n",
       "  </tbody>\n",
       "</table>\n",
       "</div>"
      ],
      "text/plain": [
       "   Index                                          Descrição                                             Tokens\n",
       "0  12747  BOMBA DOSADORA MARCA PROMINENT MOD DIAFRAGMA N...  [BOMBA, DOSADORA, MARCA, PROMINENT, MOD, DIAFR...\n",
       "1  12752  BOMBA SUBMERSIVEL FLYGT 3127.180 CURVA 483 7,5...  [BOMBA, SUBMERSIVEL, FLYGT, 3127.180, CURVA, 4...\n",
       "2  12753  BOMBA SUBMERSIVEL FLYGT 3127.180 HT 483 NS.982...  [BOMBA, SUBMERSIVEL, FLYGT, 3127.180, HT, 483,...\n",
       "3  12754  BOMBA SUBMERSIVEL FLYGT 3127.180 MT 432 NS.972...  [BOMBA, SUBMERSIVEL, FLYGT, 3127.180, MT, 432,...\n",
       "4  12755  BOMBA SUBMERSIVEL FLYGT 3127.180 SERIE 0070145...  [BOMBA, SUBMERSIVEL, FLYGT, 3127.180, SERIE, 0..."
      ]
     },
     "execution_count": 105,
     "metadata": {},
     "output_type": "execute_result"
    }
   ],
   "source": [
    "lista_geral.head()"
   ]
  },
  {
   "cell_type": "code",
   "execution_count": 50,
   "metadata": {},
   "outputs": [
    {
     "ename": "KeyError",
     "evalue": "0",
     "output_type": "error",
     "traceback": [
      "\u001b[1;31m---------------------------------------------------------------------------\u001b[0m",
      "\u001b[1;31mKeyError\u001b[0m                                  Traceback (most recent call last)",
      "\u001b[1;32mC:\\Users\\ESTMAT~1.BRA\\AppData\\Local\\Temp/ipykernel_15384/3229571510.py\u001b[0m in \u001b[0;36m<module>\u001b[1;34m\u001b[0m\n\u001b[0;32m     14\u001b[0m \u001b[0mdf_token\u001b[0m \u001b[1;33m=\u001b[0m \u001b[0mpd\u001b[0m\u001b[1;33m.\u001b[0m\u001b[0mDataFrame\u001b[0m\u001b[1;33m(\u001b[0m\u001b[0mlista_token\u001b[0m\u001b[1;33m)\u001b[0m\u001b[1;33m\u001b[0m\u001b[1;33m\u001b[0m\u001b[0m\n\u001b[0;32m     15\u001b[0m \u001b[1;31m#Agrupa e ordena\u001b[0m\u001b[1;33m\u001b[0m\u001b[1;33m\u001b[0m\u001b[0m\n\u001b[1;32m---> 16\u001b[1;33m \u001b[0mdf_token_cat1\u001b[0m \u001b[1;33m=\u001b[0m \u001b[0mdf_token\u001b[0m\u001b[1;33m.\u001b[0m\u001b[0mgroupby\u001b[0m\u001b[1;33m(\u001b[0m\u001b[1;33m[\u001b[0m\u001b[1;36m0\u001b[0m\u001b[1;33m]\u001b[0m\u001b[1;33m)\u001b[0m\u001b[1;33m.\u001b[0m\u001b[0msize\u001b[0m\u001b[1;33m(\u001b[0m\u001b[1;33m)\u001b[0m\u001b[1;33m.\u001b[0m\u001b[0mreset_index\u001b[0m\u001b[1;33m(\u001b[0m\u001b[0mname\u001b[0m\u001b[1;33m=\u001b[0m\u001b[1;34m'Qtde'\u001b[0m\u001b[1;33m)\u001b[0m\u001b[1;33m.\u001b[0m\u001b[0msort_values\u001b[0m\u001b[1;33m(\u001b[0m\u001b[1;34m'Qtde'\u001b[0m\u001b[1;33m,\u001b[0m \u001b[0mascending\u001b[0m\u001b[1;33m=\u001b[0m\u001b[1;32mFalse\u001b[0m\u001b[1;33m)\u001b[0m\u001b[1;33m.\u001b[0m\u001b[0mreset_index\u001b[0m\u001b[1;33m(\u001b[0m\u001b[0mdrop\u001b[0m\u001b[1;33m=\u001b[0m\u001b[1;32mTrue\u001b[0m\u001b[1;33m)\u001b[0m\u001b[1;33m\u001b[0m\u001b[1;33m\u001b[0m\u001b[0m\n\u001b[0m\u001b[0;32m     17\u001b[0m \u001b[0mdf_token_cat1\u001b[0m\u001b[1;33m.\u001b[0m\u001b[0mcolumns\u001b[0m \u001b[1;33m=\u001b[0m \u001b[1;33m[\u001b[0m\u001b[1;34m'Categoria'\u001b[0m\u001b[1;33m,\u001b[0m \u001b[1;34m'Qtde'\u001b[0m\u001b[1;33m]\u001b[0m\u001b[1;33m\u001b[0m\u001b[1;33m\u001b[0m\u001b[0m\n\u001b[0;32m     18\u001b[0m \u001b[0mdf_token_cat1\u001b[0m\u001b[1;33m[\u001b[0m\u001b[1;34m'Qtde [%]'\u001b[0m\u001b[1;33m]\u001b[0m \u001b[1;33m=\u001b[0m \u001b[0mdf_token_cat1\u001b[0m\u001b[1;33m.\u001b[0m\u001b[0mloc\u001b[0m\u001b[1;33m[\u001b[0m\u001b[1;33m:\u001b[0m\u001b[1;33m,\u001b[0m \u001b[1;34m'Qtde'\u001b[0m\u001b[1;33m]\u001b[0m\u001b[1;33m/\u001b[0m\u001b[0mdf_token_cat1\u001b[0m\u001b[1;33m.\u001b[0m\u001b[0mloc\u001b[0m\u001b[1;33m[\u001b[0m\u001b[1;33m:\u001b[0m\u001b[1;33m,\u001b[0m \u001b[1;34m'Qtde'\u001b[0m\u001b[1;33m]\u001b[0m\u001b[1;33m.\u001b[0m\u001b[0msum\u001b[0m\u001b[1;33m(\u001b[0m\u001b[1;33m)\u001b[0m\u001b[1;33m*\u001b[0m\u001b[1;36m100\u001b[0m\u001b[1;33m\u001b[0m\u001b[1;33m\u001b[0m\u001b[0m\n",
      "\u001b[1;32m~\\Anaconda3\\lib\\site-packages\\pandas\\core\\frame.py\u001b[0m in \u001b[0;36mgroupby\u001b[1;34m(self, by, axis, level, as_index, sort, group_keys, squeeze, observed, dropna)\u001b[0m\n\u001b[0;32m   7629\u001b[0m         \u001b[1;31m# error: Argument \"squeeze\" to \"DataFrameGroupBy\" has incompatible type\u001b[0m\u001b[1;33m\u001b[0m\u001b[1;33m\u001b[0m\u001b[0m\n\u001b[0;32m   7630\u001b[0m         \u001b[1;31m# \"Union[bool, NoDefault]\"; expected \"bool\"\u001b[0m\u001b[1;33m\u001b[0m\u001b[1;33m\u001b[0m\u001b[0m\n\u001b[1;32m-> 7631\u001b[1;33m         return DataFrameGroupBy(\n\u001b[0m\u001b[0;32m   7632\u001b[0m             \u001b[0mobj\u001b[0m\u001b[1;33m=\u001b[0m\u001b[0mself\u001b[0m\u001b[1;33m,\u001b[0m\u001b[1;33m\u001b[0m\u001b[1;33m\u001b[0m\u001b[0m\n\u001b[0;32m   7633\u001b[0m             \u001b[0mkeys\u001b[0m\u001b[1;33m=\u001b[0m\u001b[0mby\u001b[0m\u001b[1;33m,\u001b[0m\u001b[1;33m\u001b[0m\u001b[1;33m\u001b[0m\u001b[0m\n",
      "\u001b[1;32m~\\Anaconda3\\lib\\site-packages\\pandas\\core\\groupby\\groupby.py\u001b[0m in \u001b[0;36m__init__\u001b[1;34m(self, obj, keys, axis, level, grouper, exclusions, selection, as_index, sort, group_keys, squeeze, observed, mutated, dropna)\u001b[0m\n\u001b[0;32m    887\u001b[0m             \u001b[1;32mfrom\u001b[0m \u001b[0mpandas\u001b[0m\u001b[1;33m.\u001b[0m\u001b[0mcore\u001b[0m\u001b[1;33m.\u001b[0m\u001b[0mgroupby\u001b[0m\u001b[1;33m.\u001b[0m\u001b[0mgrouper\u001b[0m \u001b[1;32mimport\u001b[0m \u001b[0mget_grouper\u001b[0m\u001b[1;33m\u001b[0m\u001b[1;33m\u001b[0m\u001b[0m\n\u001b[0;32m    888\u001b[0m \u001b[1;33m\u001b[0m\u001b[0m\n\u001b[1;32m--> 889\u001b[1;33m             grouper, exclusions, obj = get_grouper(\n\u001b[0m\u001b[0;32m    890\u001b[0m                 \u001b[0mobj\u001b[0m\u001b[1;33m,\u001b[0m\u001b[1;33m\u001b[0m\u001b[1;33m\u001b[0m\u001b[0m\n\u001b[0;32m    891\u001b[0m                 \u001b[0mkeys\u001b[0m\u001b[1;33m,\u001b[0m\u001b[1;33m\u001b[0m\u001b[1;33m\u001b[0m\u001b[0m\n",
      "\u001b[1;32m~\\Anaconda3\\lib\\site-packages\\pandas\\core\\groupby\\grouper.py\u001b[0m in \u001b[0;36mget_grouper\u001b[1;34m(obj, key, axis, level, sort, observed, mutated, validate, dropna)\u001b[0m\n\u001b[0;32m    860\u001b[0m                 \u001b[0min_axis\u001b[0m\u001b[1;33m,\u001b[0m \u001b[0mlevel\u001b[0m\u001b[1;33m,\u001b[0m \u001b[0mgpr\u001b[0m \u001b[1;33m=\u001b[0m \u001b[1;32mFalse\u001b[0m\u001b[1;33m,\u001b[0m \u001b[0mgpr\u001b[0m\u001b[1;33m,\u001b[0m \u001b[1;32mNone\u001b[0m\u001b[1;33m\u001b[0m\u001b[1;33m\u001b[0m\u001b[0m\n\u001b[0;32m    861\u001b[0m             \u001b[1;32melse\u001b[0m\u001b[1;33m:\u001b[0m\u001b[1;33m\u001b[0m\u001b[1;33m\u001b[0m\u001b[0m\n\u001b[1;32m--> 862\u001b[1;33m                 \u001b[1;32mraise\u001b[0m \u001b[0mKeyError\u001b[0m\u001b[1;33m(\u001b[0m\u001b[0mgpr\u001b[0m\u001b[1;33m)\u001b[0m\u001b[1;33m\u001b[0m\u001b[1;33m\u001b[0m\u001b[0m\n\u001b[0m\u001b[0;32m    863\u001b[0m         \u001b[1;32melif\u001b[0m \u001b[0misinstance\u001b[0m\u001b[1;33m(\u001b[0m\u001b[0mgpr\u001b[0m\u001b[1;33m,\u001b[0m \u001b[0mGrouper\u001b[0m\u001b[1;33m)\u001b[0m \u001b[1;32mand\u001b[0m \u001b[0mgpr\u001b[0m\u001b[1;33m.\u001b[0m\u001b[0mkey\u001b[0m \u001b[1;32mis\u001b[0m \u001b[1;32mnot\u001b[0m \u001b[1;32mNone\u001b[0m\u001b[1;33m:\u001b[0m\u001b[1;33m\u001b[0m\u001b[1;33m\u001b[0m\u001b[0m\n\u001b[0;32m    864\u001b[0m             \u001b[1;31m# Add key to exclusions\u001b[0m\u001b[1;33m\u001b[0m\u001b[1;33m\u001b[0m\u001b[0m\n",
      "\u001b[1;31mKeyError\u001b[0m: 0"
     ]
    }
   ],
   "source": [
    "lista_exclusao = ['DE', 'DA', 'DO', 'EM', 'PARA', 'NOS', 'NAS', 'E', '']\n",
    "lista_token = []\n",
    "for frase in lista_geral:\n",
    "    #Elimina numerais do início da frase\n",
    "    if frase[0].isnumeric():\n",
    "        aux = frase[1::]\n",
    "    else:\n",
    "        aux = frase\n",
    "    #Analisa quanto à lista de exclusao e elementos unitários\n",
    "    aux2 = [x for x in aux if x not in lista_exclusao and len(x) > 1]\n",
    "    lista_token.append(aux2)\n",
    "\n",
    "#Cria o DataFrame\n",
    "df_token = pd.DataFrame(lista_token)\n",
    "#Agrupa e ordena\n",
    "df_token_cat1 = df_token.groupby([0]).size().reset_index(name='Qtde').sort_values('Qtde', ascending=False).reset_index(drop=True)\n",
    "df_token_cat1.columns = ['Categoria', 'Qtde']\n",
    "df_token_cat1['Qtde [%]'] = df_token_cat1.loc[:, 'Qtde']/df_token_cat1.loc[:, 'Qtde'].sum()*100\n",
    "#print(df_token_cat1.head(30))\n",
    "return df_token, df_token_cat1"
   ]
  },
  {
   "cell_type": "code",
   "execution_count": null,
   "metadata": {},
   "outputs": [],
   "source": [
    "def tokeniza(base_descr):\n",
    "    #Tokeniza as frases descritivas de cada ativo\n",
    "    lista_base = base_descr.to_list()\n",
    "    #Divide em substrings\n",
    "    lista_geral = []\n",
    "    for i in lista_base:\n",
    "        #Força string\n",
    "        aux = str(i).split(' ')\n",
    "        lista_geral.append(aux)\n",
    "    lista_exclusao = ['DE', 'DA', 'DO', 'EM', 'PARA', 'NOS', 'NAS', 'E', '']\n",
    "    lista_token = []\n",
    "    for frase in lista_geral:\n",
    "        #Elimina numerais do início da frase\n",
    "        if frase[0].isnumeric():\n",
    "            aux = frase[1::]\n",
    "        else:\n",
    "            aux = frase\n",
    "        #Analisa quanto à lista de exclusao e elementos unitários\n",
    "        aux2 = [x for x in aux if x not in lista_exclusao and len(x) > 1]\n",
    "        lista_token.append(aux2)\n",
    "    \n",
    "    #Cria o DataFrame\n",
    "    df_token = pd.DataFrame(lista_token)\n",
    "    #Agrupa e ordena\n",
    "    df_token_cat1 = df_token.groupby([0]).size().reset_index(name='Qtde').sort_values('Qtde', ascending=False).reset_index(drop=True)\n",
    "    df_token_cat1.columns = ['Categoria', 'Qtde']\n",
    "    df_token_cat1['Qtde [%]'] = df_token_cat1.loc[:, 'Qtde']/df_token_cat1.loc[:, 'Qtde'].sum()*100\n",
    "    #print(df_token_cat1.head(30))\n",
    "    return df_token, df_token_cat1"
   ]
  },
  {
   "cell_type": "code",
   "execution_count": null,
   "metadata": {},
   "outputs": [],
   "source": [
    "df_token, df_token_cat1 = ss.tokeniza(lista_descricao)"
   ]
  },
  {
   "cell_type": "code",
   "execution_count": null,
   "metadata": {},
   "outputs": [
    {
     "data": {
      "text/html": [
       "<div>\n",
       "<style scoped>\n",
       "    .dataframe tbody tr th:only-of-type {\n",
       "        vertical-align: middle;\n",
       "    }\n",
       "\n",
       "    .dataframe tbody tr th {\n",
       "        vertical-align: top;\n",
       "    }\n",
       "\n",
       "    .dataframe thead th {\n",
       "        text-align: right;\n",
       "    }\n",
       "</style>\n",
       "<table border=\"1\" class=\"dataframe\">\n",
       "  <thead>\n",
       "    <tr style=\"text-align: right;\">\n",
       "      <th></th>\n",
       "      <th>0</th>\n",
       "      <th>1</th>\n",
       "      <th>2</th>\n",
       "      <th>3</th>\n",
       "      <th>4</th>\n",
       "      <th>5</th>\n",
       "      <th>6</th>\n",
       "      <th>7</th>\n",
       "      <th>8</th>\n",
       "      <th>9</th>\n",
       "      <th>10</th>\n",
       "      <th>11</th>\n",
       "      <th>12</th>\n",
       "      <th>13</th>\n",
       "      <th>14</th>\n",
       "      <th>15</th>\n",
       "      <th>16</th>\n",
       "      <th>17</th>\n",
       "      <th>18</th>\n",
       "      <th>19</th>\n",
       "    </tr>\n",
       "  </thead>\n",
       "  <tbody>\n",
       "    <tr>\n",
       "      <th>0</th>\n",
       "      <td>BOMBA</td>\n",
       "      <td>DOSADORA</td>\n",
       "      <td>MARCA</td>\n",
       "      <td>PROMINENT</td>\n",
       "      <td>MOD</td>\n",
       "      <td>DIAFRAGMA</td>\n",
       "      <td>N.SER</td>\n",
       "      <td>S2CBH16130PVTS120UA</td>\n",
       "      <td>CAP</td>\n",
       "      <td>130,0</td>\n",
       "      <td>L/H</td>\n",
       "      <td>None</td>\n",
       "      <td>None</td>\n",
       "      <td>None</td>\n",
       "      <td>None</td>\n",
       "      <td>None</td>\n",
       "      <td>None</td>\n",
       "      <td>None</td>\n",
       "      <td>None</td>\n",
       "      <td>None</td>\n",
       "    </tr>\n",
       "    <tr>\n",
       "      <th>1</th>\n",
       "      <td>BOMBA</td>\n",
       "      <td>SUBMERSIVEL</td>\n",
       "      <td>FLYGT</td>\n",
       "      <td>3127.180</td>\n",
       "      <td>CURVA</td>\n",
       "      <td>483</td>\n",
       "      <td>7,5KW</td>\n",
       "      <td>(10CV)</td>\n",
       "      <td>NS.0303211</td>\n",
       "      <td>1735RPM</td>\n",
       "      <td>220V/26A</td>\n",
       "      <td>None</td>\n",
       "      <td>None</td>\n",
       "      <td>None</td>\n",
       "      <td>None</td>\n",
       "      <td>None</td>\n",
       "      <td>None</td>\n",
       "      <td>None</td>\n",
       "      <td>None</td>\n",
       "      <td>None</td>\n",
       "    </tr>\n",
       "    <tr>\n",
       "      <th>2</th>\n",
       "      <td>BOMBA</td>\n",
       "      <td>SUBMERSIVEL</td>\n",
       "      <td>FLYGT</td>\n",
       "      <td>3127.180</td>\n",
       "      <td>HT</td>\n",
       "      <td>483</td>\n",
       "      <td>NS.98207117,5KW</td>\n",
       "      <td>(10CV)</td>\n",
       "      <td>1735RPM</td>\n",
       "      <td>None</td>\n",
       "      <td>None</td>\n",
       "      <td>None</td>\n",
       "      <td>None</td>\n",
       "      <td>None</td>\n",
       "      <td>None</td>\n",
       "      <td>None</td>\n",
       "      <td>None</td>\n",
       "      <td>None</td>\n",
       "      <td>None</td>\n",
       "      <td>None</td>\n",
       "    </tr>\n",
       "    <tr>\n",
       "      <th>3</th>\n",
       "      <td>BOMBA</td>\n",
       "      <td>SUBMERSIVEL</td>\n",
       "      <td>FLYGT</td>\n",
       "      <td>3127.180</td>\n",
       "      <td>MT</td>\n",
       "      <td>432</td>\n",
       "      <td>NS.97207277,5KW</td>\n",
       "      <td>(10CV)</td>\n",
       "      <td>1735RPM</td>\n",
       "      <td>None</td>\n",
       "      <td>None</td>\n",
       "      <td>None</td>\n",
       "      <td>None</td>\n",
       "      <td>None</td>\n",
       "      <td>None</td>\n",
       "      <td>None</td>\n",
       "      <td>None</td>\n",
       "      <td>None</td>\n",
       "      <td>None</td>\n",
       "      <td>None</td>\n",
       "    </tr>\n",
       "    <tr>\n",
       "      <th>4</th>\n",
       "      <td>BOMBA</td>\n",
       "      <td>SUBMERSIVEL</td>\n",
       "      <td>FLYGT</td>\n",
       "      <td>3127.180</td>\n",
       "      <td>SERIE</td>\n",
       "      <td>0070145</td>\n",
       "      <td>7,5KW</td>\n",
       "      <td>1735RPM</td>\n",
       "      <td>220/380V</td>\n",
       "      <td>26/15A</td>\n",
       "      <td>None</td>\n",
       "      <td>None</td>\n",
       "      <td>None</td>\n",
       "      <td>None</td>\n",
       "      <td>None</td>\n",
       "      <td>None</td>\n",
       "      <td>None</td>\n",
       "      <td>None</td>\n",
       "      <td>None</td>\n",
       "      <td>None</td>\n",
       "    </tr>\n",
       "  </tbody>\n",
       "</table>\n",
       "</div>"
      ],
      "text/plain": [
       "      0            1      2          3      4          5                6                    7           8        9         10    11    12    13    14    15    16    17    18    19\n",
       "0  BOMBA     DOSADORA  MARCA  PROMINENT    MOD  DIAFRAGMA            N.SER  S2CBH16130PVTS120UA         CAP    130,0       L/H  None  None  None  None  None  None  None  None  None\n",
       "1  BOMBA  SUBMERSIVEL  FLYGT   3127.180  CURVA        483            7,5KW               (10CV)  NS.0303211  1735RPM  220V/26A  None  None  None  None  None  None  None  None  None\n",
       "2  BOMBA  SUBMERSIVEL  FLYGT   3127.180     HT        483  NS.98207117,5KW               (10CV)     1735RPM     None      None  None  None  None  None  None  None  None  None  None\n",
       "3  BOMBA  SUBMERSIVEL  FLYGT   3127.180     MT        432  NS.97207277,5KW               (10CV)     1735RPM     None      None  None  None  None  None  None  None  None  None  None\n",
       "4  BOMBA  SUBMERSIVEL  FLYGT   3127.180  SERIE    0070145            7,5KW              1735RPM    220/380V   26/15A      None  None  None  None  None  None  None  None  None  None"
      ]
     },
     "execution_count": 137,
     "metadata": {},
     "output_type": "execute_result"
    }
   ],
   "source": [
    "df_token.head()"
   ]
  },
  {
   "cell_type": "code",
   "execution_count": null,
   "metadata": {},
   "outputs": [],
   "source": [
    "lista_tokens = df_token_cat1.iloc[:,0].unique() #cria array com as palavras únicas"
   ]
  },
  {
   "cell_type": "code",
   "execution_count": null,
   "metadata": {},
   "outputs": [],
   "source": [
    "matches = ss.analisa_match2(df_token_cat1.Categoria,df_token_cat1.Qtde, 69)"
   ]
  },
  {
   "cell_type": "code",
   "execution_count": null,
   "metadata": {},
   "outputs": [
    {
     "data": {
      "text/html": [
       "<div>\n",
       "<style scoped>\n",
       "    .dataframe tbody tr th:only-of-type {\n",
       "        vertical-align: middle;\n",
       "    }\n",
       "\n",
       "    .dataframe tbody tr th {\n",
       "        vertical-align: top;\n",
       "    }\n",
       "\n",
       "    .dataframe thead th {\n",
       "        text-align: right;\n",
       "    }\n",
       "</style>\n",
       "<table border=\"1\" class=\"dataframe\">\n",
       "  <thead>\n",
       "    <tr style=\"text-align: right;\">\n",
       "      <th></th>\n",
       "      <th>Ref</th>\n",
       "      <th>Freq_ref</th>\n",
       "      <th>Match</th>\n",
       "      <th>Freq_match</th>\n",
       "      <th>Simple ratio</th>\n",
       "      <th>Partial ratio</th>\n",
       "      <th>Sort ratio</th>\n",
       "      <th>Set ratio</th>\n",
       "      <th>mean ratio</th>\n",
       "      <th>median ratio</th>\n",
       "      <th>desv ratio</th>\n",
       "    </tr>\n",
       "  </thead>\n",
       "  <tbody>\n",
       "    <tr>\n",
       "      <th>0</th>\n",
       "      <td>MOTOR</td>\n",
       "      <td>6</td>\n",
       "      <td>MOTO</td>\n",
       "      <td>2</td>\n",
       "      <td>89</td>\n",
       "      <td>100</td>\n",
       "      <td>89</td>\n",
       "      <td>89</td>\n",
       "      <td>91.75</td>\n",
       "      <td>89.0</td>\n",
       "      <td>4.763</td>\n",
       "    </tr>\n",
       "    <tr>\n",
       "      <th>1</th>\n",
       "      <td>MOTO</td>\n",
       "      <td>2</td>\n",
       "      <td>MOTOR</td>\n",
       "      <td>6</td>\n",
       "      <td>89</td>\n",
       "      <td>100</td>\n",
       "      <td>89</td>\n",
       "      <td>89</td>\n",
       "      <td>91.75</td>\n",
       "      <td>89.0</td>\n",
       "      <td>4.763</td>\n",
       "    </tr>\n",
       "    <tr>\n",
       "      <th>4</th>\n",
       "      <td>BOMBA</td>\n",
       "      <td>32</td>\n",
       "      <td>MOTOBOMBA</td>\n",
       "      <td>4</td>\n",
       "      <td>71</td>\n",
       "      <td>100</td>\n",
       "      <td>71</td>\n",
       "      <td>71</td>\n",
       "      <td>78.25</td>\n",
       "      <td>71.0</td>\n",
       "      <td>12.557</td>\n",
       "    </tr>\n",
       "    <tr>\n",
       "      <th>5</th>\n",
       "      <td>MOTOBOMBA</td>\n",
       "      <td>4</td>\n",
       "      <td>BOMBA</td>\n",
       "      <td>32</td>\n",
       "      <td>71</td>\n",
       "      <td>100</td>\n",
       "      <td>71</td>\n",
       "      <td>71</td>\n",
       "      <td>78.25</td>\n",
       "      <td>71.0</td>\n",
       "      <td>12.557</td>\n",
       "    </tr>\n",
       "  </tbody>\n",
       "</table>\n",
       "</div>"
      ],
      "text/plain": [
       "         Ref  Freq_ref      Match  Freq_match  Simple ratio  Partial ratio  Sort ratio  Set ratio  mean ratio  median ratio  desv ratio\n",
       "0      MOTOR         6       MOTO           2            89            100          89         89       91.75          89.0       4.763\n",
       "1       MOTO         2      MOTOR           6            89            100          89         89       91.75          89.0       4.763\n",
       "4      BOMBA        32  MOTOBOMBA           4            71            100          71         71       78.25          71.0      12.557\n",
       "5  MOTOBOMBA         4      BOMBA          32            71            100          71         71       78.25          71.0      12.557"
      ]
     },
     "execution_count": 135,
     "metadata": {},
     "output_type": "execute_result"
    }
   ],
   "source": [
    "matches"
   ]
  },
  {
   "cell_type": "code",
   "execution_count": null,
   "metadata": {},
   "outputs": [],
   "source": [
    "matches_100 = matches.loc[:,[\"Ref\", \"Freq_ref\",\"Match\", \"Freq_match\", \"median ratio\", \"desv ratio\"]]\\\n",
    "     .where(matches.loc[:,\"median ratio\"] == 100)"
   ]
  },
  {
   "cell_type": "code",
   "execution_count": null,
   "metadata": {},
   "outputs": [],
   "source": [
    "matches_100.to_excel('matches_100.xlsx')"
   ]
  },
  {
   "cell_type": "code",
   "execution_count": null,
   "metadata": {},
   "outputs": [
    {
     "data": {
      "text/plain": [
       "12747    BOMBA DOSADORA MARCA PROMINENT MOD DIAFRAGMA N...\n",
       "12804    BOMBA DOSADORA PROMINENT SIGMA3 SN.2001069794 ...\n",
       "12811                                       BOMBA DOSADORA\n",
       "Name: 12 - DESCRIÇÃO DO BEM, dtype: object"
      ]
     },
     "execution_count": 17,
     "metadata": {},
     "output_type": "execute_result"
    }
   ],
   "source": [
    "\n",
    "lista_descricao[(lista_descricao.str.contains('BOMBA', regex=False)) & (lista_descricao.str.contains('DOSADORA', regex=False)) ]"
   ]
  },
  {
   "cell_type": "code",
   "execution_count": null,
   "metadata": {},
   "outputs": [
    {
     "data": {
      "text/plain": [
       "12747    BOMBA DOSADORA MARCA PROMINENT MOD DIAFRAGMA N...\n",
       "12804    BOMBA DOSADORA PROMINENT SIGMA3 SN.2001069794 ...\n",
       "12811                                       BOMBA DOSADORA\n",
       "Name: 12 - DESCRIÇÃO DO BEM, dtype: object"
      ]
     },
     "execution_count": 18,
     "metadata": {},
     "output_type": "execute_result"
    }
   ],
   "source": [
    "\n",
    "lista_descricao[lista_descricao.str.contains('DOSADORA', regex=False)]"
   ]
  }
 ],
 "metadata": {
  "interpreter": {
   "hash": "08820d80d9da2e8b8362dd7eb175f13515edfba605b5089051618ffd8d1308cc"
  },
  "kernelspec": {
   "display_name": "Python 3.10.1 64-bit",
   "language": "python",
   "name": "python3"
  },
  "language_info": {
   "codemirror_mode": {
    "name": "ipython",
    "version": 3
   },
   "file_extension": ".py",
   "mimetype": "text/x-python",
   "name": "python",
   "nbconvert_exporter": "python",
   "pygments_lexer": "ipython3",
   "version": "3.9.7"
  },
  "orig_nbformat": 4
 },
 "nbformat": 4,
 "nbformat_minor": 2
}
